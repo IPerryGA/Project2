{
 "cells": [
  {
   "cell_type": "markdown",
   "metadata": {},
   "source": [
    "Coding practice"
   ]
  },
  {
   "cell_type": "code",
   "execution_count": 1,
   "metadata": {
    "collapsed": true
   },
   "outputs": [],
   "source": [
    "def to_roman(n):\n",
    "    try:\n",
    "        n = int(n)\n",
    "    except:\n",
    "        raise ValueError(\"Please enter a number\")\n",
    "        \n",
    "    if n >= 1000 or n < 0:\n",
    "        raise ValueError(\"Number must be between 1 - 1000\")\n",
    "        \n",
    "    \n",
    "    c3 = ['','C','CC','CCC','CD','D', 'DC', 'DCC', 'DCCC', 'CM']\n",
    "    c2 = ['','X','XX','XXX','XL','L','LX','LXX','LXXX','XC']\n",
    "    c1 = ['','I','II','III','IV','V','VI','VII','VIII','IX']\n",
    "    \n",
    "    return c3[n//100] + c2[(n%100)//10] + c1[(n%10)]"
   ]
  },
  {
   "cell_type": "code",
   "execution_count": 2,
   "metadata": {
    "collapsed": true
   },
   "outputs": [],
   "source": [
    "def to_roman2(n):\n",
    "    try:\n",
    "        n = int(n)\n",
    "    except:\n",
    "        raise ValueError(\"Please enter a number\")\n",
    "        \n",
    "    if n >= 1100 or n < 0:\n",
    "        raise ValueError(\"Number must be between 1 - 1000\")\n",
    "        \n",
    "    \n",
    "    c3 = ['','C','CC','CCC','CD','D', 'DC', 'DCC', 'DCCC', 'CM' ,'M', 'MC']\n",
    "    c2 = ['','X','XX','XXX','XL','L','LX','LXX','LXXX','XC']\n",
    "    c1 = ['','I','II','III','IV','V','VI','VII','VIII','IX']\n",
    "    \n",
    "    return c3[n//100] + c2[(n%100)//10] + c1[(n%10)]"
   ]
  },
  {
   "cell_type": "code",
   "execution_count": 8,
   "metadata": {
    "collapsed": true
   },
   "outputs": [],
   "source": [
    "def from_roman(r):\n",
    "    n = 0\n",
    "    \n",
    "    d = {'I':1,'V':5,'X':10,'L':50,'C':100,'D':500,'M':1000}\n",
    "    \n",
    "    for i in range(len(r)-1):\n",
    "        \n",
    "        if d[r[i]] >= d[r[i+1]]:\n",
    "            n += d[r[i]]\n",
    "            \n",
    "        else:\n",
    "            n -= d[r[i]] \n",
    "            \n",
    "        print n\n",
    "                \n",
    "    n += d[r[-1]]\n",
    "    \n",
    "    return n"
   ]
  },
  {
   "cell_type": "code",
   "execution_count": 15,
   "metadata": {
    "collapsed": false
   },
   "outputs": [
    {
     "data": {
      "text/plain": [
       "'CDXXXV'"
      ]
     },
     "execution_count": 15,
     "metadata": {},
     "output_type": "execute_result"
    }
   ],
   "source": [
    "to_roman2(435)"
   ]
  },
  {
   "cell_type": "code",
   "execution_count": 14,
   "metadata": {
    "collapsed": false
   },
   "outputs": [
    {
     "name": "stdout",
     "output_type": "stream",
     "text": [
      "1000\n",
      "1005\n",
      "1006\n"
     ]
    },
    {
     "data": {
      "text/plain": [
       "1007"
      ]
     },
     "execution_count": 14,
     "metadata": {},
     "output_type": "execute_result"
    }
   ],
   "source": [
    "from_roman('MVII')"
   ]
  },
  {
   "cell_type": "code",
   "execution_count": null,
   "metadata": {
    "collapsed": true
   },
   "outputs": [],
   "source": []
  }
 ],
 "metadata": {
  "anaconda-cloud": {},
  "kernelspec": {
   "display_name": "Python [Root]",
   "language": "python",
   "name": "Python [Root]"
  },
  "language_info": {
   "codemirror_mode": {
    "name": "ipython",
    "version": 2
   },
   "file_extension": ".py",
   "mimetype": "text/x-python",
   "name": "python",
   "nbconvert_exporter": "python",
   "pygments_lexer": "ipython2",
   "version": "2.7.12"
  }
 },
 "nbformat": 4,
 "nbformat_minor": 0
}
